{
 "cells": [
  {
   "cell_type": "markdown",
   "metadata": {},
   "source": [
    "# Continuous Control\n",
    "\n",
    "---\n",
    "\n",
    "\n",
    "### 1. Start the Environment\n",
    "\n",
    "We begin by importing the necessary packages.  If the code cell below returns an error, please revisit the project instructions to double-check that you have installed [Unity ML-Agents](https://github.com/Unity-Technologies/ml-agents/blob/master/docs/Installation.md) and [NumPy](http://www.numpy.org/)."
   ]
  },
  {
   "cell_type": "code",
   "execution_count": 1,
   "metadata": {},
   "outputs": [],
   "source": [
    "import random\n",
    "import torch\n",
    "import time\n",
    "import numpy as np\n",
    "from collections import deque\n",
    "import matplotlib.pyplot as plt\n",
    "%matplotlib inline\n",
    "\n",
    "from ddpg_agent import Agent, ReplayBuffer\n",
    "\n",
    "from unityagents import UnityEnvironment\n",
    "import numpy as np"
   ]
  },
  {
   "cell_type": "markdown",
   "metadata": {},
   "source": [
    "Next, we will start the environment!  **_Before running the code cell below_**, change the `file_name` parameter to match the location of the Unity environment that you downloaded.\n",
    "\n",
    "- **Mac**: `\"path/to/Reacher.app\"`\n",
    "- **Windows** (x86): `\"path/to/Reacher_Windows_x86/Reacher.exe\"`\n",
    "- **Windows** (x86_64): `\"path/to/Reacher_Windows_x86_64/Reacher.exe\"`\n",
    "- **Linux** (x86): `\"path/to/Reacher_Linux/Reacher.x86\"`\n",
    "- **Linux** (x86_64): `\"path/to/Reacher_Linux/Reacher.x86_64\"`\n",
    "- **Linux** (x86, headless): `\"path/to/Reacher_Linux_NoVis/Reacher.x86\"`\n",
    "- **Linux** (x86_64, headless): `\"path/to/Reacher_Linux_NoVis/Reacher.x86_64\"`\n",
    "\n",
    "For instance, if you are using a Mac, then you downloaded `Reacher.app`.  If this file is in the same folder as the notebook, then the line below should appear as follows:\n",
    "```\n",
    "env = UnityEnvironment(file_name=\"Reacher.app\")\n",
    "```"
   ]
  },
  {
   "cell_type": "code",
   "execution_count": 2,
   "metadata": {},
   "outputs": [
    {
     "name": "stderr",
     "output_type": "stream",
     "text": [
      "INFO:unityagents:\n",
      "'Academy' started successfully!\n",
      "Unity Academy name: Academy\n",
      "        Number of Brains: 1\n",
      "        Number of External Brains : 1\n",
      "        Lesson number : 0\n",
      "        Reset Parameters :\n",
      "\t\tgoal_speed -> 1.0\n",
      "\t\tgoal_size -> 5.0\n",
      "Unity brain name: ReacherBrain\n",
      "        Number of Visual Observations (per agent): 0\n",
      "        Vector Observation space type: continuous\n",
      "        Vector Observation space size (per agent): 33\n",
      "        Number of stacked Vector Observation: 1\n",
      "        Vector Action space type: continuous\n",
      "        Vector Action space size (per agent): 4\n",
      "        Vector Action descriptions: , , , \n"
     ]
    }
   ],
   "source": [
    "env = UnityEnvironment(file_name='Reacher20.app')"
   ]
  },
  {
   "cell_type": "markdown",
   "metadata": {},
   "source": [
    "Environments contain **_brains_** which are responsible for deciding the actions of their associated agents. Here we check for the first brain available, and set it as the default brain we will be controlling from Python."
   ]
  },
  {
   "cell_type": "code",
   "execution_count": 3,
   "metadata": {},
   "outputs": [],
   "source": [
    "# get the default brain\n",
    "brain_name = env.brain_names[0]\n",
    "brain = env.brains[brain_name]"
   ]
  },
  {
   "cell_type": "markdown",
   "metadata": {},
   "source": [
    "### 2. Examine the State and Action Spaces\n",
    "\n",
    "In this environment, a double-jointed arm can move to target locations. A reward of `+0.1` is provided for each step that the agent's hand is in the goal location. Thus, the goal of your agent is to maintain its position at the target location for as many time steps as possible.\n",
    "\n",
    "The observation space consists of `33` variables corresponding to position, rotation, velocity, and angular velocities of the arm.  Each action is a vector with four numbers, corresponding to torque applicable to two joints.  Every entry in the action vector must be a number between `-1` and `1`.\n",
    "\n",
    "Run the code cell below to print some information about the environment."
   ]
  },
  {
   "cell_type": "code",
   "execution_count": 4,
   "metadata": {},
   "outputs": [
    {
     "name": "stdout",
     "output_type": "stream",
     "text": [
      "Number of agents: 20\n",
      "Size of each action: 4\n",
      "There are 20 agents. Each observes a state with length: 33\n",
      "The state for the first agent looks like: [ 0.00000000e+00 -4.00000000e+00  0.00000000e+00  1.00000000e+00\n",
      " -0.00000000e+00 -0.00000000e+00 -4.37113883e-08  0.00000000e+00\n",
      "  0.00000000e+00  0.00000000e+00  0.00000000e+00  0.00000000e+00\n",
      "  0.00000000e+00  0.00000000e+00 -1.00000000e+01  0.00000000e+00\n",
      "  1.00000000e+00 -0.00000000e+00 -0.00000000e+00 -4.37113883e-08\n",
      "  0.00000000e+00  0.00000000e+00  0.00000000e+00  0.00000000e+00\n",
      "  0.00000000e+00  0.00000000e+00  5.75471878e+00 -1.00000000e+00\n",
      "  5.55726624e+00  0.00000000e+00  1.00000000e+00  0.00000000e+00\n",
      " -1.68164849e-01]\n"
     ]
    }
   ],
   "source": [
    "# reset the environment\n",
    "env_info = env.reset(train_mode=True)[brain_name]\n",
    "\n",
    "# number of agents\n",
    "num_agents = len(env_info.agents)\n",
    "print('Number of agents:', num_agents)\n",
    "\n",
    "# size of each action\n",
    "action_size = brain.vector_action_space_size\n",
    "print('Size of each action:', action_size)\n",
    "\n",
    "# examine the state space \n",
    "states = env_info.vector_observations\n",
    "state_size = states.shape[1]\n",
    "print('There are {} agents. Each observes a state with length: {}'.format(states.shape[0], state_size))\n",
    "print('The state for the first agent looks like:', states[0])"
   ]
  },
  {
   "cell_type": "markdown",
   "metadata": {},
   "source": [
    "### 3. Create an agent instance and Start training"
   ]
  },
  {
   "cell_type": "code",
   "execution_count": 5,
   "metadata": {},
   "outputs": [],
   "source": [
    "random_seed = random.randint(0,10)\n",
    "train_mode = True\n",
    "\n",
    "agent = Agent(state_size=state_size, action_size=action_size, random_seed=random_seed, prioritize=False)"
   ]
  },
  {
   "cell_type": "code",
   "execution_count": 6,
   "metadata": {},
   "outputs": [
    {
     "name": "stderr",
     "output_type": "stream",
     "text": [
      "/Users/mac/deep-reinforcement-learning/p2_continuous-control/ddpg_agent.py:104: UserWarning: torch.nn.utils.clip_grad_norm is now deprecated in favor of torch.nn.utils.clip_grad_norm_.\n",
      "  torch.nn.utils.clip_grad_norm(self.critic_local.parameters(), 1)\n"
     ]
    },
    {
     "name": "stdout",
     "output_type": "stream",
     "text": [
      "Episode 1\tTotal Average Score: 0.17\tMean: 0.17\tMin: 0.00\tMax: 0.45\tDuration: 129.22\n",
      "Episode 2\tTotal Average Score: 0.21\tMean: 0.25\tMin: 0.00\tMax: 0.99\tDuration: 136.48\n",
      "Episode 3\tTotal Average Score: 0.36\tMean: 0.65\tMin: 0.17\tMax: 2.13\tDuration: 153.56\n",
      "Episode 4\tTotal Average Score: 0.48\tMean: 0.85\tMin: 0.00\tMax: 2.31\tDuration: 140.34\n",
      "Episode 5\tTotal Average Score: 0.55\tMean: 0.84\tMin: 0.07\tMax: 1.95\tDuration: 121.83\n",
      "Episode 6\tTotal Average Score: 0.61\tMean: 0.90\tMin: 0.26\tMax: 2.03\tDuration: 130.46\n",
      "Episode 7\tTotal Average Score: 0.67\tMean: 1.04\tMin: 0.00\tMax: 2.64\tDuration: 152.40\n",
      "Episode 8\tTotal Average Score: 0.74\tMean: 1.20\tMin: 0.44\tMax: 3.42\tDuration: 121.77\n",
      "Episode 9\tTotal Average Score: 0.85\tMean: 1.77\tMin: 0.66\tMax: 2.81\tDuration: 117.25\n",
      "Episode 10\tTotal Average Score: 1.01\tMean: 2.44\tMin: 0.00\tMax: 5.62\tDuration: 119.60\n",
      "Episode 10\tTotal Average Score: 1.01\n",
      "Episode 11\tTotal Average Score: 1.12\tMean: 2.18\tMin: 0.55\tMax: 3.62\tDuration: 117.20\n",
      "Episode 12\tTotal Average Score: 1.26\tMean: 2.81\tMin: 1.50\tMax: 5.75\tDuration: 119.14\n",
      "Episode 13\tTotal Average Score: 1.46\tMean: 3.93\tMin: 1.62\tMax: 7.02\tDuration: 119.40\n",
      "Episode 14\tTotal Average Score: 1.61\tMean: 3.56\tMin: 1.08\tMax: 7.53\tDuration: 119.65\n",
      "Episode 15\tTotal Average Score: 1.81\tMean: 4.57\tMin: 1.87\tMax: 9.34\tDuration: 124.61\n",
      "Episode 16\tTotal Average Score: 2.10\tMean: 6.44\tMin: 1.50\tMax: 10.45\tDuration: 128.51\n",
      "Episode 17\tTotal Average Score: 2.38\tMean: 6.94\tMin: 1.32\tMax: 12.94\tDuration: 127.45\n",
      "Episode 18\tTotal Average Score: 2.84\tMean: 10.58\tMin: 1.51\tMax: 18.09\tDuration: 128.58\n",
      "Episode 19\tTotal Average Score: 3.57\tMean: 16.73\tMin: 5.07\tMax: 26.85\tDuration: 131.41\n",
      "Episode 20\tTotal Average Score: 4.20\tMean: 16.11\tMin: 4.98\tMax: 31.34\tDuration: 129.61\n",
      "Episode 20\tTotal Average Score: 4.20\n",
      "Episode 21\tTotal Average Score: 5.09\tMean: 22.92\tMin: 10.90\tMax: 34.22\tDuration: 130.84\n",
      "Episode 22\tTotal Average Score: 6.12\tMean: 27.73\tMin: 17.47\tMax: 33.47\tDuration: 133.03\n",
      "Episode 23\tTotal Average Score: 7.31\tMean: 33.49\tMin: 29.08\tMax: 38.13\tDuration: 137.38\n",
      "Episode 24\tTotal Average Score: 8.31\tMean: 31.34\tMin: 21.08\tMax: 35.85\tDuration: 135.91\n",
      "Episode 25\tTotal Average Score: 9.34\tMean: 33.98\tMin: 23.67\tMax: 38.52\tDuration: 137.55\n",
      "Episode 26\tTotal Average Score: 10.34\tMean: 35.29\tMin: 29.76\tMax: 39.52\tDuration: 139.98\n",
      "Episode 27\tTotal Average Score: 11.32\tMean: 36.93\tMin: 31.04\tMax: 39.62\tDuration: 152.14\n",
      "Episode 28\tTotal Average Score: 12.21\tMean: 36.20\tMin: 32.54\tMax: 39.59\tDuration: 165.21\n",
      "Episode 29\tTotal Average Score: 13.11\tMean: 38.37\tMin: 35.75\tMax: 39.47\tDuration: 160.86\n",
      "Episode 30\tTotal Average Score: 13.93\tMean: 37.79\tMin: 35.62\tMax: 39.54\tDuration: 163.22\n",
      "Episode 30\tTotal Average Score: 13.93\n",
      "Episode 31\tTotal Average Score: 14.74\tMean: 38.79\tMin: 36.95\tMax: 39.67\tDuration: 162.41\n",
      "Episode 32\tTotal Average Score: 15.47\tMean: 38.36\tMin: 36.31\tMax: 39.62\tDuration: 165.73\n",
      "Episode 33\tTotal Average Score: 16.17\tMean: 38.57\tMin: 35.89\tMax: 39.56\tDuration: 167.59\n",
      "Episode 34\tTotal Average Score: 16.84\tMean: 38.89\tMin: 36.95\tMax: 39.64\tDuration: 169.04\n",
      "Episode 35\tTotal Average Score: 17.46\tMean: 38.30\tMin: 35.72\tMax: 39.59\tDuration: 171.81\n",
      "Episode 36\tTotal Average Score: 18.02\tMean: 37.78\tMin: 36.59\tMax: 38.88\tDuration: 174.00\n",
      "Episode 37\tTotal Average Score: 18.55\tMean: 37.53\tMin: 34.86\tMax: 39.10\tDuration: 175.31\n",
      "Episode 38\tTotal Average Score: 19.08\tMean: 38.94\tMin: 36.90\tMax: 39.60\tDuration: 178.98\n",
      "Episode 39\tTotal Average Score: 19.55\tMean: 37.12\tMin: 34.74\tMax: 39.11\tDuration: 180.45\n",
      "Episode 40\tTotal Average Score: 20.03\tMean: 38.77\tMin: 37.26\tMax: 39.59\tDuration: 190.82\n",
      "Episode 40\tTotal Average Score: 20.03\n",
      "Episode 41\tTotal Average Score: 20.48\tMean: 38.47\tMin: 36.18\tMax: 39.55\tDuration: 189.62\n",
      "Episode 42\tTotal Average Score: 20.91\tMean: 38.75\tMin: 36.44\tMax: 39.57\tDuration: 190.79\n",
      "Episode 43\tTotal Average Score: 21.33\tMean: 38.72\tMin: 36.50\tMax: 39.63\tDuration: 198.43\n",
      "Episode 44\tTotal Average Score: 21.72\tMean: 38.76\tMin: 35.28\tMax: 39.51\tDuration: 198.43\n",
      "Episode 45\tTotal Average Score: 22.09\tMean: 38.46\tMin: 36.69\tMax: 39.57\tDuration: 202.93\n",
      "Episode 46\tTotal Average Score: 22.45\tMean: 38.35\tMin: 35.59\tMax: 39.48\tDuration: 203.96\n",
      "Episode 47\tTotal Average Score: 22.80\tMean: 38.89\tMin: 37.60\tMax: 39.62\tDuration: 206.22\n",
      "Episode 48\tTotal Average Score: 23.13\tMean: 38.75\tMin: 36.86\tMax: 39.49\tDuration: 208.79\n",
      "Episode 49\tTotal Average Score: 23.45\tMean: 38.80\tMin: 37.72\tMax: 39.54\tDuration: 219.80\n",
      "Episode 50\tTotal Average Score: 23.75\tMean: 38.58\tMin: 36.73\tMax: 39.64\tDuration: 214.47\n",
      "Episode 50\tTotal Average Score: 23.75\n",
      "Episode 51\tTotal Average Score: 24.05\tMean: 38.93\tMin: 37.52\tMax: 39.59\tDuration: 211.62\n",
      "Episode 52\tTotal Average Score: 24.33\tMean: 38.61\tMin: 36.29\tMax: 39.60\tDuration: 210.00\n",
      "Episode 53\tTotal Average Score: 24.60\tMean: 38.90\tMin: 38.21\tMax: 39.48\tDuration: 213.02\n",
      "Episode 54\tTotal Average Score: 24.87\tMean: 38.66\tMin: 35.32\tMax: 39.67\tDuration: 208.06\n",
      "Episode 55\tTotal Average Score: 25.10\tMean: 37.57\tMin: 35.80\tMax: 39.46\tDuration: 189.85\n",
      "Episode 56\tTotal Average Score: 25.34\tMean: 38.64\tMin: 36.79\tMax: 39.52\tDuration: 189.70\n",
      "Episode 57\tTotal Average Score: 25.57\tMean: 38.67\tMin: 36.96\tMax: 39.59\tDuration: 191.01\n",
      "Episode 58\tTotal Average Score: 25.80\tMean: 38.67\tMin: 37.86\tMax: 39.40\tDuration: 199.35\n",
      "Episode 59\tTotal Average Score: 26.01\tMean: 38.27\tMin: 37.26\tMax: 39.21\tDuration: 231.19\n",
      "Episode 60\tTotal Average Score: 26.23\tMean: 39.01\tMin: 37.26\tMax: 39.56\tDuration: 224.42\n",
      "Episode 60\tTotal Average Score: 26.23\n",
      "Episode 61\tTotal Average Score: 26.43\tMean: 38.75\tMin: 37.52\tMax: 39.61\tDuration: 218.86\n",
      "Episode 62\tTotal Average Score: 26.64\tMean: 39.18\tMin: 37.21\tMax: 39.60\tDuration: 204.77\n",
      "Episode 63\tTotal Average Score: 26.83\tMean: 38.59\tMin: 37.37\tMax: 39.55\tDuration: 194.78\n",
      "Episode 64\tTotal Average Score: 27.01\tMean: 38.75\tMin: 36.61\tMax: 39.41\tDuration: 220.01\n",
      "Episode 65\tTotal Average Score: 27.20\tMean: 38.90\tMin: 37.61\tMax: 39.56\tDuration: 218.04\n",
      "Episode 66\tTotal Average Score: 27.37\tMean: 38.95\tMin: 38.13\tMax: 39.56\tDuration: 216.96\n",
      "Episode 67\tTotal Average Score: 27.54\tMean: 38.74\tMin: 36.93\tMax: 39.38\tDuration: 195.51\n",
      "Episode 68\tTotal Average Score: 27.71\tMean: 38.86\tMin: 36.84\tMax: 39.65\tDuration: 184.91\n",
      "Episode 69\tTotal Average Score: 27.86\tMean: 38.20\tMin: 36.31\tMax: 39.14\tDuration: 199.25\n",
      "Episode 70\tTotal Average Score: 28.02\tMean: 38.73\tMin: 37.68\tMax: 39.61\tDuration: 200.09\n",
      "Episode 70\tTotal Average Score: 28.02\n",
      "Episode 71\tTotal Average Score: 28.16\tMean: 38.46\tMin: 36.74\tMax: 39.49\tDuration: 218.84\n",
      "Episode 72\tTotal Average Score: 28.32\tMean: 39.41\tMin: 38.89\tMax: 39.63\tDuration: 210.52\n",
      "Episode 73\tTotal Average Score: 28.47\tMean: 39.00\tMin: 37.76\tMax: 39.60\tDuration: 258.35\n",
      "Episode 74\tTotal Average Score: 28.61\tMean: 39.16\tMin: 37.89\tMax: 39.64\tDuration: 266.74\n",
      "Episode 75\tTotal Average Score: 28.75\tMean: 39.23\tMin: 38.50\tMax: 39.62\tDuration: 206.27\n",
      "Episode 76\tTotal Average Score: 28.88\tMean: 38.79\tMin: 37.51\tMax: 39.54\tDuration: 247.26\n",
      "Episode 77\tTotal Average Score: 29.02\tMean: 39.36\tMin: 38.28\tMax: 39.65\tDuration: 199.31\n",
      "Episode 78\tTotal Average Score: 29.14\tMean: 38.05\tMin: 36.95\tMax: 39.50\tDuration: 201.78\n",
      "Episode 79\tTotal Average Score: 29.26\tMean: 39.01\tMin: 38.11\tMax: 39.58\tDuration: 203.68\n",
      "Episode 80\tTotal Average Score: 29.37\tMean: 38.06\tMin: 36.25\tMax: 39.35\tDuration: 215.85\n",
      "Episode 80\tTotal Average Score: 29.37\n",
      "Episode 81\tTotal Average Score: 29.49\tMean: 39.29\tMin: 38.18\tMax: 39.63\tDuration: 218.57\n",
      "Episode 82\tTotal Average Score: 29.61\tMean: 38.95\tMin: 37.30\tMax: 39.62\tDuration: 218.78\n",
      "Episode 83\tTotal Average Score: 29.72\tMean: 38.55\tMin: 37.92\tMax: 39.57\tDuration: 223.45\n",
      "Episode 84\tTotal Average Score: 29.82\tMean: 38.47\tMin: 37.27\tMax: 39.62\tDuration: 225.91\n",
      "Episode 85\tTotal Average Score: 29.93\tMean: 38.98\tMin: 38.35\tMax: 39.51\tDuration: 213.08\n",
      "Episode 86\tTotal Average Score: 30.03\tMean: 38.76\tMin: 35.46\tMax: 39.61\tDuration: 225.08\n",
      "Episode 87\tTotal Average Score: 30.13\tMean: 38.16\tMin: 35.93\tMax: 39.56\tDuration: 224.88\n",
      "Episode 88\tTotal Average Score: 30.22\tMean: 38.09\tMin: 37.07\tMax: 39.55\tDuration: 225.03\n",
      "Episode 89\tTotal Average Score: 30.31\tMean: 38.21\tMin: 37.23\tMax: 38.90\tDuration: 224.55\n",
      "Episode 90\tTotal Average Score: 30.38\tMean: 36.97\tMin: 34.88\tMax: 39.44\tDuration: 222.01\n",
      "Episode 90\tTotal Average Score: 30.38\n"
     ]
    },
    {
     "name": "stdout",
     "output_type": "stream",
     "text": [
      "Episode 91\tTotal Average Score: 30.46\tMean: 37.89\tMin: 35.80\tMax: 39.42\tDuration: 222.78\n",
      "Episode 92\tTotal Average Score: 30.54\tMean: 37.38\tMin: 35.46\tMax: 39.12\tDuration: 230.88\n",
      "Episode 93\tTotal Average Score: 30.62\tMean: 38.01\tMin: 35.60\tMax: 39.62\tDuration: 222.69\n",
      "Episode 94\tTotal Average Score: 30.68\tMean: 36.92\tMin: 33.76\tMax: 38.61\tDuration: 220.62\n",
      "Episode 95\tTotal Average Score: 30.74\tMean: 36.27\tMin: 34.79\tMax: 38.33\tDuration: 216.57\n",
      "Episode 96\tTotal Average Score: 30.80\tMean: 36.43\tMin: 26.35\tMax: 38.49\tDuration: 271.36\n",
      "Episode 97\tTotal Average Score: 30.88\tMean: 37.89\tMin: 36.25\tMax: 39.19\tDuration: 294.64\n",
      "Episode 98\tTotal Average Score: 30.95\tMean: 37.72\tMin: 35.94\tMax: 38.63\tDuration: 404.94\n",
      "Episode 99\tTotal Average Score: 31.01\tMean: 37.62\tMin: 35.80\tMax: 39.27\tDuration: 323.25\n",
      "Episode 100\tTotal Average Score: 31.09\tMean: 38.40\tMin: 36.73\tMax: 39.44\tDuration: 314.37\n",
      "Episode 100\tTotal Average Score: 31.09\n",
      "Problem Solved after 100 epsisodes!! Total Average score: 31.09\n"
     ]
    }
   ],
   "source": [
    "def ddpg(n_episodes=2000, max_t=1000, print_every=10, learn_every=20, num_learn=10, goal_score=30):\n",
    "    total_scores_deque = deque(maxlen=100)\n",
    "    total_scores = []\n",
    "    \n",
    "    for i_episode in range(1, n_episodes+1):\n",
    "        # Reset Env and Agent\n",
    "        env_info = env.reset(train_mode=train_mode)[brain_name]       # reset the environment    \n",
    "        states = env_info.vector_observations                   # get the current state (for each agent)\n",
    "        scores = np.zeros(num_agents)                            # initialize the score (for each agent)\n",
    "        agent.reset()\n",
    "        \n",
    "        start_time = time.time()\n",
    "        \n",
    "        for t in range(max_t):\n",
    "            actions = agent.act(states)\n",
    "            \n",
    "            env_info = env.step(actions)[brain_name]            # send all actions to the environment\n",
    "            next_states = env_info.vector_observations          # get next state (for each agent)\n",
    "            rewards = env_info.rewards                          # get reward (for each agent)\n",
    "            \n",
    "            dones = env_info.local_done                         # see if episode finished\n",
    "            \n",
    "            for state, action, reward, next_state, done in zip(states, actions, rewards, next_states, dones):\n",
    "                agent.step(state, action, reward, next_state, done) # send actions to the agent\n",
    "            \n",
    "            scores += env_info.rewards                           # update the score (for each agent)\n",
    "            states = next_states                                # roll over states to next time step\n",
    "            \n",
    "            if t%learn_every == 0:\n",
    "                for _ in range(num_learn):\n",
    "                    agent.sampleandlearn()\n",
    "            \n",
    "            if np.any(dones):                                   # exit loop if episode finished\n",
    "                break\n",
    "    \n",
    "        mean_score = np.mean(scores)\n",
    "        min_score = np.min(scores)\n",
    "        max_score = np.max(scores)\n",
    "        total_scores_deque.append(mean_score)\n",
    "        total_scores.append(mean_score)\n",
    "        total_average_score = np.mean(total_scores_deque)\n",
    "        duration = time.time() - start_time\n",
    "        \n",
    "        print('\\rEpisode {}\\tTotal Average Score: {:.2f}\\tMean: {:.2f}\\tMin: {:.2f}\\tMax: {:.2f}\\tDuration: {:.2f}'\n",
    "              .format(i_episode, total_average_score, mean_score, min_score, max_score, duration))\n",
    "\n",
    "        if i_episode % print_every == 0:\n",
    "            torch.save(agent.actor_local.state_dict(), 'checkpoint_actor.pth')\n",
    "            torch.save(agent.critic_local.state_dict(), 'checkpoint_critic.pth')\n",
    "            print('\\rEpisode {}\\tTotal Average Score: {:.2f}'.format(i_episode, total_average_score))  \n",
    "            \n",
    "        if total_average_score >= goal_score and i_episode >= 100:\n",
    "            print('Problem Solved after {} epsisodes!! Total Average score: {:.2f}'.format(i_episode, total_average_score))\n",
    "            torch.save(agent.actor_local.state_dict(), 'checkpoint_actor.pth')\n",
    "            torch.save(agent.critic_local.state_dict(), 'checkpoint_critic.pth')\n",
    "            break\n",
    "    \n",
    "    return total_scores\n",
    "\n",
    "scores = ddpg()\n"
   ]
  },
  {
   "cell_type": "markdown",
   "metadata": {},
   "source": [
    "### 4. Plotting score"
   ]
  },
  {
   "cell_type": "code",
   "execution_count": 7,
   "metadata": {},
   "outputs": [
    {
     "data": {
      "image/png": "[encoded data removed]",
      "text/plain": [
       "<Figure size 432x288 with 1 Axes>"
      ]
     },
     "metadata": {
      "needs_background": "light"
     },
     "output_type": "display_data"
    }
   ],
   "source": [
    "fig = plt.figure()\n",
    "ax = fig.add_subplot(1,1,1)\n",
    "\n",
    "plt.plot(np.arange(1, len(scores)+1), scores)\n",
    "plt.ylabel('Score')\n",
    "plt.xlabel('Episode #')\n",
    "plt.show()"
   ]
  },
  {
   "cell_type": "code",
   "execution_count": null,
   "metadata": {},
   "outputs": [],
   "source": [
    "agent.actor_local.load_state_dict(torch.load('checkpoint_actor.pth'))\n",
    "agent.critic_local.load_state_dict(torch.load('checkpoint_critic.pth'))"
   ]
  },
  {
   "cell_type": "markdown",
   "metadata": {},
   "source": [
    "### 5. Closing environment"
   ]
  },
  {
   "cell_type": "code",
   "execution_count": null,
   "metadata": {},
   "outputs": [],
   "source": [
    "env.close()"
   ]
  }
 ],
 "metadata": {
  "kernelspec": {
   "display_name": "Python 3",
   "language": "python",
   "name": "python3"
  },
  "language_info": {
   "codemirror_mode": {
    "name": "ipython",
    "version": 3
   },
   "file_extension": ".py",
   "mimetype": "text/x-python",
   "name": "python",
   "nbconvert_exporter": "python",
   "pygments_lexer": "ipython3",
   "version": "3.6.2"
  }
 },
 "nbformat": 4,
 "nbformat_minor": 2
}
